{
   "cell_type": "code",
   "metadata": {},
   "outputs": [
     {
       "name": "stdout",
       "output_type": "stream",
       "text": [
         "print(\"Average acceptance rate before new business rules:\", ((pre_rules.loc[pre_rules[\"CFM_CASE_CREATED\"] == 1].shape[0]) / ((pre_rules.loc[pre_rules[\"REFER_IND\"] == 1]).shape[0])))" 
       ]
    }
  ]
}
